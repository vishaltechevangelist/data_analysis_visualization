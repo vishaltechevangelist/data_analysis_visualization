{
 "cells": [
  {
   "cell_type": "code",
   "execution_count": 3,
   "id": "0e4d45b6",
   "metadata": {},
   "outputs": [
    {
     "name": "stdout",
     "output_type": "stream",
     "text": [
      "<IntegerArray>\n",
      "[2, 4, 6, 8]\n",
      "Length: 4, dtype: Int64\n"
     ]
    }
   ],
   "source": [
    "# creating pandas from python list\n",
    "import pandas as pd\n",
    "data = [2,4,6,8]\n",
    "array1 = pd.array(data)\n",
    "print(array1)"
   ]
  },
  {
   "cell_type": "code",
   "execution_count": 4,
   "id": "df798975",
   "metadata": {},
   "outputs": [
    {
     "name": "stdout",
     "output_type": "stream",
     "text": [
      "0    2\n",
      "1    4\n",
      "2    6\n",
      "3    8\n",
      "dtype: Int64\n"
     ]
    }
   ],
   "source": [
    "# creating series from pd array\n",
    "series1 = pd.Series(array1)\n",
    "print(series1)"
   ]
  },
  {
   "cell_type": "code",
   "execution_count": 6,
   "id": "fa3dfc05",
   "metadata": {},
   "outputs": [
    {
     "name": "stdout",
     "output_type": "stream",
     "text": [
      "{'Name': ['John', 'Alice', 'Bob', 'Emma', 'Mike', 'Sarah', 'David'], 'Age': [25, 30, 35, 28, 32, 23, 40], 'City': ['Delhi', 'Ghaziabad', 'Agra', 'Bareilly', 'Badaun', 'Madrid', 'Toronto']}\n"
     ]
    }
   ],
   "source": [
    "data = { 'Name': ['John', 'Alice', 'Bob', 'Emma', 'Mike', 'Sarah', 'David'],\n",
    "         'Age': [25, 30, 35, 28, 32, 23, 40],\n",
    "         'City': ['Delhi', 'Ghaziabad', 'Agra', 'Bareilly', 'Badaun', 'Madrid', 'Toronto']}\n",
    "print(data)"
   ]
  },
  {
   "cell_type": "code",
   "execution_count": 31,
   "id": "ac379b28",
   "metadata": {},
   "outputs": [
    {
     "name": "stdout",
     "output_type": "stream",
     "text": [
      "    Name  Age       City\n",
      "0   John   25      Delhi\n",
      "1  Alice   30  Ghaziabad\n",
      "2    Bob   35       Agra\n",
      "3   Emma   28   Bareilly\n",
      "4   Mike   32     Badaun\n",
      "5  Sarah   23     Madrid\n",
      "6  David   40    Toronto\n",
      "<class 'pandas.core.frame.DataFrame'>\n",
      "RangeIndex: 7 entries, 0 to 6\n",
      "Data columns (total 3 columns):\n",
      " #   Column  Non-Null Count  Dtype \n",
      "---  ------  --------------  ----- \n",
      " 0   Name    7 non-null      object\n",
      " 1   Age     7 non-null      int64 \n",
      " 2   City    7 non-null      object\n",
      "dtypes: int64(1), object(2)\n",
      "memory usage: 300.0+ bytes\n",
      "None\n"
     ]
    }
   ],
   "source": [
    "# create dataframe\n",
    "df = pd.DataFrame(data)\n",
    "print(df)\n",
    "print(df.info())"
   ]
  },
  {
   "cell_type": "code",
   "execution_count": 32,
   "id": "91f514a8",
   "metadata": {},
   "outputs": [
    {
     "name": "stdout",
     "output_type": "stream",
     "text": [
      "    Name  Age       City  Height\n",
      "0   John   25      Delhi       4\n",
      "1  Alice   30  Ghaziabad       5\n",
      "2    Bob   35       Agra       6\n",
      "3   Emma   28   Bareilly       7\n",
      "4   Mike   32     Badaun       8\n",
      "5  Sarah   23     Madrid       3\n",
      "6  David   40    Toronto       1\n"
     ]
    }
   ],
   "source": [
    "height = [4,5,6,7,8,3,1]\n",
    "df['Height'] = height \n",
    "print(df)"
   ]
  },
  {
   "cell_type": "code",
   "execution_count": 33,
   "id": "72df0dc2",
   "metadata": {},
   "outputs": [
    {
     "name": "stdout",
     "output_type": "stream",
     "text": [
      "    Name  Age       City  Height\n",
      "0   John   25      Delhi       4\n",
      "1  Alice   30  Ghaziabad       5\n",
      "2    Bob   35       Agra       6\n",
      "3   Emma   28   Bareilly       7\n",
      "4   Mike   32     Badaun       8\n",
      "5  Sarah   23     Madrid       3\n",
      "6  David   40    Toronto       1\n",
      "7    Amy   20      Noida       4\n"
     ]
    }
   ],
   "source": [
    "# add new row\n",
    "df.loc[len(df.index)] = ['Amy', 20, 'Noida', 4]\n",
    "print(df)"
   ]
  },
  {
   "cell_type": "code",
   "execution_count": 34,
   "id": "959bade0",
   "metadata": {},
   "outputs": [
    {
     "name": "stdout",
     "output_type": "stream",
     "text": [
      "    Name  Age       City  Height\n",
      "0   John   25      Delhi       4\n",
      "1  Alice   30  Ghaziabad       5\n",
      "2    Bob   35       Agra       6\n",
      "4   Mike   32     Badaun       8\n",
      "5  Sarah   23     Madrid       3\n",
      "6  David   40    Toronto       1\n",
      "7    Amy   20      Noida       4\n"
     ]
    }
   ],
   "source": [
    "# remove the pandas dataframe row\n",
    "df.drop(3, axis=0, inplace=True)\n",
    "print(df)"
   ]
  },
  {
   "cell_type": "code",
   "execution_count": 35,
   "id": "3da05125",
   "metadata": {},
   "outputs": [
    {
     "name": "stdout",
     "output_type": "stream",
     "text": [
      "    Name  Age       City\n",
      "0   John   25      Delhi\n",
      "1  Alice   30  Ghaziabad\n",
      "2    Bob   35       Agra\n",
      "4   Mike   32     Badaun\n",
      "5  Sarah   23     Madrid\n",
      "6  David   40    Toronto\n",
      "7    Amy   20      Noida\n"
     ]
    }
   ],
   "source": [
    "# remove the pandas dataframe column\n",
    "df.drop('Height', axis=1, inplace=True)\n",
    "print(df)"
   ]
  },
  {
   "cell_type": "code",
   "execution_count": 36,
   "id": "37bf8713",
   "metadata": {},
   "outputs": [
    {
     "name": "stdout",
     "output_type": "stream",
     "text": [
      "           Name  Age       City\n",
      "Vishal     John   25      Delhi\n",
      "Priyanka  Alice   30  Ghaziabad\n",
      "Adharv      Bob   35       Agra\n",
      "4          Mike   32     Badaun\n",
      "5         Sarah   23     Madrid\n",
      "6         David   40    Toronto\n",
      "7           Amy   20      Noida\n"
     ]
    }
   ],
   "source": [
    "# rename indexes in pandas dataframe\n",
    "df.rename(index={0:'Vishal', 1:'Priyanka', 2:'Adharv'}, inplace=True)\n",
    "print(df)"
   ]
  },
  {
   "cell_type": "code",
   "execution_count": 37,
   "id": "ad312ce1",
   "metadata": {},
   "outputs": [
    {
     "name": "stdout",
     "output_type": "stream",
     "text": [
      "      index   Name  Age       City\n",
      "0    Vishal   John   25      Delhi\n",
      "1  Priyanka  Alice   30  Ghaziabad\n",
      "2    Adharv    Bob   35       Agra\n",
      "3         4   Mike   32     Badaun\n",
      "4         5  Sarah   23     Madrid\n",
      "5         6  David   40    Toronto\n",
      "6         7    Amy   20      Noida\n"
     ]
    }
   ],
   "source": [
    "df.reset_index(inplace=True)\n",
    "print(df)"
   ]
  },
  {
   "cell_type": "code",
   "execution_count": 38,
   "id": "ce881a8a",
   "metadata": {},
   "outputs": [
    {
     "name": "stdout",
     "output_type": "stream",
     "text": [
      "0     John\n",
      "1    Alice\n",
      "2      Bob\n",
      "3     Mike\n",
      "4    Sarah\n",
      "5    David\n",
      "6      Amy\n",
      "Name: Name, dtype: object\n"
     ]
    }
   ],
   "source": [
    "print(df['Name'])"
   ]
  },
  {
   "cell_type": "code",
   "execution_count": 39,
   "id": "45692b69",
   "metadata": {},
   "outputs": [
    {
     "name": "stdout",
     "output_type": "stream",
     "text": [
      "      index   Name  Age       City\n",
      "1  Priyanka  Alice   30  Ghaziabad\n",
      "2    Adharv    Bob   35       Agra\n",
      "3         4   Mike   32     Badaun\n"
     ]
    }
   ],
   "source": [
    "slice_rows = df.loc[1:3]\n",
    "print(slice_rows)"
   ]
  },
  {
   "cell_type": "code",
   "execution_count": 40,
   "id": "fa9676c0",
   "metadata": {},
   "outputs": [
    {
     "name": "stdout",
     "output_type": "stream",
     "text": [
      "index    Adharv\n",
      "Name        Bob\n",
      "Age          35\n",
      "City       Agra\n",
      "Name: 2, dtype: object\n"
     ]
    }
   ],
   "source": [
    "print(df.iloc[2])"
   ]
  },
  {
   "cell_type": "code",
   "execution_count": null,
   "id": "2001d0a0",
   "metadata": {},
   "outputs": [],
   "source": []
  }
 ],
 "metadata": {
  "kernelspec": {
   "display_name": "ds_env",
   "language": "python",
   "name": "ds_env"
  },
  "language_info": {
   "codemirror_mode": {
    "name": "ipython",
    "version": 3
   },
   "file_extension": ".py",
   "mimetype": "text/x-python",
   "name": "python",
   "nbconvert_exporter": "python",
   "pygments_lexer": "ipython3",
   "version": "3.12.9"
  }
 },
 "nbformat": 4,
 "nbformat_minor": 5
}
