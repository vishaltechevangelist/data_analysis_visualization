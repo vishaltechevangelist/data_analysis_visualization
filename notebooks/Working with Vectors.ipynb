{
 "cells": [
  {
   "cell_type": "markdown",
   "id": "162d4ea7",
   "metadata": {},
   "source": [
    "# Working with Vectors in Numpy"
   ]
  },
  {
   "cell_type": "markdown",
   "id": "4254befd",
   "metadata": {},
   "source": [
    "## Creating Vectors and Extracting Values"
   ]
  },
  {
   "cell_type": "code",
   "execution_count": 15,
   "id": "439e7ffd",
   "metadata": {},
   "outputs": [
    {
     "name": "stdout",
     "output_type": "stream",
     "text": [
      "[ 4  8 15 16 23]\n"
     ]
    }
   ],
   "source": [
    "# Basic Creation with np.array\n",
    "import numpy as np\n",
    "list_of_numbers = [4,8,15,16,23]\n",
    "array = np.array(list_of_numbers)\n",
    "print(array)"
   ]
  },
  {
   "cell_type": "code",
   "execution_count": 16,
   "id": "2e6c4714",
   "metadata": {},
   "outputs": [
    {
     "data": {
      "text/plain": [
       "numpy.ndarray"
      ]
     },
     "execution_count": 16,
     "metadata": {},
     "output_type": "execute_result"
    }
   ],
   "source": [
    "type(array)"
   ]
  },
  {
   "cell_type": "code",
   "execution_count": 17,
   "id": "83114cd5",
   "metadata": {},
   "outputs": [
    {
     "data": {
      "text/plain": [
       "(5,)"
      ]
     },
     "execution_count": 17,
     "metadata": {},
     "output_type": "execute_result"
    }
   ],
   "source": [
    "array.shape"
   ]
  },
  {
   "cell_type": "code",
   "execution_count": 22,
   "id": "377af075",
   "metadata": {},
   "outputs": [
    {
     "name": "stdout",
     "output_type": "stream",
     "text": [
      "1\n"
     ]
    }
   ],
   "source": [
    "print(array.ndim)"
   ]
  },
  {
   "cell_type": "code",
   "execution_count": 24,
   "id": "bd1d95e8",
   "metadata": {},
   "outputs": [
    {
     "name": "stdout",
     "output_type": "stream",
     "text": [
      "4\n",
      "23\n",
      "23\n"
     ]
    }
   ],
   "source": [
    "# Extract Values\n",
    "first_element = array[0]\n",
    "print(first_element)\n",
    "print(array[4]) # Last element\n",
    "print(array[-1]) # Last element"
   ]
  },
  {
   "cell_type": "code",
   "execution_count": 27,
   "id": "d6ba6db2",
   "metadata": {},
   "outputs": [
    {
     "name": "stdout",
     "output_type": "stream",
     "text": [
      "[100   8  15  16  23]\n",
      "[100   8  15  16  50]\n"
     ]
    }
   ],
   "source": [
    "# Setting values\n",
    "array[0] = 100\n",
    "print(array)\n",
    "array[-1] = 50\n",
    "print(array)"
   ]
  },
  {
   "cell_type": "code",
   "execution_count": null,
   "id": "3279ea33",
   "metadata": {},
   "outputs": [],
   "source": [
    "# Creating vectors with np.arange\n",
    "sequential_numbers = np.arange(17)"
   ]
  }
 ],
 "metadata": {
  "kernelspec": {
   "display_name": "ds_env",
   "language": "python",
   "name": "ds_env"
  },
  "language_info": {
   "codemirror_mode": {
    "name": "ipython",
    "version": 3
   },
   "file_extension": ".py",
   "mimetype": "text/x-python",
   "name": "python",
   "nbconvert_exporter": "python",
   "pygments_lexer": "ipython3",
   "version": "3.12.9"
  }
 },
 "nbformat": 4,
 "nbformat_minor": 5
}
