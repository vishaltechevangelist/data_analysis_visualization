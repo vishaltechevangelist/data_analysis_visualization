{
 "cells": [
  {
   "cell_type": "code",
   "execution_count": 1,
   "id": "497e406d",
   "metadata": {},
   "outputs": [
    {
     "name": "stdout",
     "output_type": "stream",
     "text": [
      "[2 4 5 6]\n"
     ]
    }
   ],
   "source": [
    "import numpy as np\n",
    "list = [2,4,5,6]\n",
    "array1 = np.array(list)\n",
    "print(array1)"
   ]
  },
  {
   "cell_type": "code",
   "execution_count": 3,
   "id": "98004007",
   "metadata": {},
   "outputs": [
    {
     "name": "stdout",
     "output_type": "stream",
     "text": [
      "[0. 0. 0. 0. 0. 0. 0. 0. 0. 0. 0. 0. 0. 0. 0. 0. 0. 0. 0. 0. 0. 0. 0. 0.\n",
      " 0. 0. 0. 0. 0. 0. 0. 0. 0. 0. 0. 0. 0. 0. 0. 0. 0. 0. 0. 0. 0. 0. 0. 0.\n",
      " 0. 0. 0. 0. 0. 0. 0. 0. 0. 0. 0. 0. 0. 0. 0. 0. 0. 0. 0. 0. 0. 0. 0. 0.\n",
      " 0. 0. 0. 0. 0. 0. 0. 0. 0. 0. 0. 0. 0. 0. 0. 0. 0. 0. 0. 0. 0. 0. 0. 0.\n",
      " 0. 0. 0. 0.]\n"
     ]
    }
   ],
   "source": [
    "# create an array with 4 elements filled with zeros\n",
    "array1 = np.zeros(100)\n",
    "print(array1)"
   ]
  },
  {
   "cell_type": "code",
   "execution_count": 4,
   "id": "4f18b88a",
   "metadata": {},
   "outputs": [
    {
     "name": "stdout",
     "output_type": "stream",
     "text": [
      "[0 1 2 3 4]\n"
     ]
    }
   ],
   "source": [
    "# create an array with values from 0 to 4\n",
    "array1 = np.arange(5)\n",
    "print(array1)"
   ]
  },
  {
   "cell_type": "code",
   "execution_count": 5,
   "id": "5696257a",
   "metadata": {},
   "outputs": [
    {
     "name": "stdout",
     "output_type": "stream",
     "text": [
      "[1 3 5 7]\n"
     ]
    }
   ],
   "source": [
    "# create an array with values from 1 to 8 with step 2\n",
    "array2 = np.arange(1,9,2)\n",
    "print(array2)"
   ]
  },
  {
   "cell_type": "code",
   "execution_count": 6,
   "id": "404a4811",
   "metadata": {},
   "outputs": [
    {
     "name": "stdout",
     "output_type": "stream",
     "text": [
      "[0.56879945 0.78033175 0.08963031 0.53108134 0.67374903]\n"
     ]
    }
   ],
   "source": [
    "# create an array with random numbers\n",
    "array1 = np.random.rand(5)\n",
    "print(array1)"
   ]
  },
  {
   "cell_type": "code",
   "execution_count": 10,
   "id": "c6580873",
   "metadata": {},
   "outputs": [
    {
     "name": "stdout",
     "output_type": "stream",
     "text": [
      "2\n",
      "(2, 4)\n"
     ]
    }
   ],
   "source": [
    "# create 2D array with 2 rows and 4 column\n",
    "array1 = np.array([[1,2,3,4], [5,6,7,8]])\n",
    "print(array1.ndim)\n",
    "print(array1.shape)"
   ]
  },
  {
   "cell_type": "code",
   "execution_count": 12,
   "id": "907bc16b",
   "metadata": {},
   "outputs": [
    {
     "name": "stdout",
     "output_type": "stream",
     "text": [
      "[[5 5]\n",
      " [5 5]]\n"
     ]
    }
   ],
   "source": [
    "# creating 2D array with elements initialized to 5\n",
    "numpy_array = np.full((2,2),5)\n",
    "print(numpy_array)"
   ]
  },
  {
   "cell_type": "code",
   "execution_count": 14,
   "id": "a4673f7f",
   "metadata": {},
   "outputs": [
    {
     "name": "stdout",
     "output_type": "stream",
     "text": [
      "2\n",
      "4\n",
      "int64\n",
      "(2, 2)\n",
      "8\n",
      "<memory at 0x108b45cb0>\n"
     ]
    }
   ],
   "source": [
    "print(numpy_array.ndim)\n",
    "print(numpy_array.size)\n",
    "print(numpy_array.dtype)\n",
    "print(numpy_array.shape)\n",
    "print(numpy_array.itemsize)\n",
    "print(numpy_array.data)"
   ]
  },
  {
   "cell_type": "code",
   "execution_count": 18,
   "id": "2216ebb0",
   "metadata": {},
   "outputs": [
    {
     "name": "stdout",
     "output_type": "stream",
     "text": [
      "[[1 2 3 4]\n",
      " [5 6 7 8]]\n",
      "[[1 2]\n",
      " [3 4]\n",
      " [5 6]\n",
      " [7 8]]\n",
      "[[[1 2]\n",
      "  [3 4]]\n",
      "\n",
      " [[5 6]\n",
      "  [7 8]]]\n"
     ]
    }
   ],
   "source": [
    "array1 = np.array([1,2,3,4,5,6,7,8])\n",
    "result = np.reshape(array1, (2,4))\n",
    "print(result)\n",
    "result = np.reshape(array1, (4,2))\n",
    "print(result)\n"
   ]
  },
  {
   "cell_type": "code",
   "execution_count": 19,
   "id": "f089ed92",
   "metadata": {},
   "outputs": [
    {
     "name": "stdout",
     "output_type": "stream",
     "text": [
      "[[[1 2]\n",
      "  [3 4]]\n",
      "\n",
      " [[5 6]\n",
      "  [7 8]]]\n"
     ]
    }
   ],
   "source": [
    "print(np.reshape(array1, (2,2,2)))"
   ]
  },
  {
   "cell_type": "code",
   "execution_count": 21,
   "id": "9ccdbac4",
   "metadata": {},
   "outputs": [
    {
     "name": "stdout",
     "output_type": "stream",
     "text": [
      "[ 3  6  9 12]\n"
     ]
    }
   ],
   "source": [
    "math_marks = np.array([1,2,3,4])\n",
    "science_marks = np.array([2,4,6,8])\n",
    "score = math_marks + science_marks\n",
    "print(score)"
   ]
  },
  {
   "cell_type": "code",
   "execution_count": 23,
   "id": "99d7adad",
   "metadata": {},
   "outputs": [
    {
     "name": "stdout",
     "output_type": "stream",
     "text": [
      "[ 3  6  9 12]\n"
     ]
    }
   ],
   "source": [
    "# output using the add function\n",
    "total_marks = np.add(math_marks, science_marks)\n",
    "print(total_marks)"
   ]
  },
  {
   "cell_type": "code",
   "execution_count": 24,
   "id": "c3592cc2",
   "metadata": {},
   "outputs": [
    {
     "name": "stdout",
     "output_type": "stream",
     "text": [
      "[ True False False]\n"
     ]
    }
   ],
   "source": [
    "# comparison operator\n",
    "array1 = np.array([1,2,3])\n",
    "array2 = np.array([3,2,1])\n",
    "result = array1 < array2\n",
    "print(result)"
   ]
  },
  {
   "cell_type": "code",
   "execution_count": 25,
   "id": "fa76958b",
   "metadata": {},
   "outputs": [
    {
     "name": "stdout",
     "output_type": "stream",
     "text": [
      "[ True False False]\n"
     ]
    }
   ],
   "source": [
    "# comparison function\n",
    "print(np.less(array1, array2))"
   ]
  },
  {
   "cell_type": "code",
   "execution_count": null,
   "id": "3631483f",
   "metadata": {},
   "outputs": [],
   "source": []
  }
 ],
 "metadata": {
  "kernelspec": {
   "display_name": "ds_env",
   "language": "python",
   "name": "ds_env"
  },
  "language_info": {
   "codemirror_mode": {
    "name": "ipython",
    "version": 3
   },
   "file_extension": ".py",
   "mimetype": "text/x-python",
   "name": "python",
   "nbconvert_exporter": "python",
   "pygments_lexer": "ipython3",
   "version": "3.12.9"
  }
 },
 "nbformat": 4,
 "nbformat_minor": 5
}
