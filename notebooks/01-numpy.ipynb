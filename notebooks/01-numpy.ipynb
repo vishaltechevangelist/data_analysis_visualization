{
 "cells": [
  {
   "cell_type": "code",
   "execution_count": 38,
   "id": "fcf52f8c-4ea1-4772-a5a3-843a5ee888ff",
   "metadata": {},
   "outputs": [
    {
     "name": "stdout",
     "output_type": "stream",
     "text": [
      "2.2.4\n"
     ]
    }
   ],
   "source": [
    "import numpy as np\n",
    "print(np.__version__)"
   ]
  },
  {
   "cell_type": "markdown",
   "id": "d5d13a34-ca20-499a-aefe-2f78e680fdfd",
   "metadata": {},
   "source": [
    "Convert python list (if we already have) into numpy array"
   ]
  },
  {
   "cell_type": "code",
   "execution_count": 39,
   "id": "544bd9a5-1617-489f-9874-f4dfaa554f9a",
   "metadata": {},
   "outputs": [],
   "source": [
    "my_list_1d = [5,3,8]"
   ]
  },
  {
   "cell_type": "code",
   "execution_count": 40,
   "id": "1c606194-e09a-47a8-ab52-768d58f2a3ba",
   "metadata": {},
   "outputs": [
    {
     "data": {
      "text/plain": [
       "array([5, 3, 8])"
      ]
     },
     "execution_count": 40,
     "metadata": {},
     "output_type": "execute_result"
    }
   ],
   "source": [
    "# convert python list into 1-dimensional numpy array\n",
    "np.array(my_list_1d)"
   ]
  },
  {
   "cell_type": "code",
   "execution_count": 41,
   "id": "f1d90aed-a8d8-43d5-a0f8-c63c857eb860",
   "metadata": {},
   "outputs": [
    {
     "name": "stdout",
     "output_type": "stream",
     "text": [
      "[[3, 7, 10], [4, 2, 5]]\n"
     ]
    }
   ],
   "source": [
    "# 2-dimensional array from list of lists\n",
    "my_list_2d = [[3,7,10], [4,2,5]]\n",
    "print(my_list_2d)"
   ]
  },
  {
   "cell_type": "code",
   "execution_count": 42,
   "id": "4885f10b-721e-4db2-bbab-021e5d857f19",
   "metadata": {},
   "outputs": [
    {
     "data": {
      "text/plain": [
       "array([[ 3,  7, 10],\n",
       "       [ 4,  2,  5]])"
      ]
     },
     "execution_count": 42,
     "metadata": {},
     "output_type": "execute_result"
    }
   ],
   "source": [
    "my_2d_array = np.array(my_list_2d) # 3,7,10 are 1st row and 4,2,5 are 2nd row ---- 3,4 are 1st column and so on\n",
    "my_2d_array"
   ]
  },
  {
   "cell_type": "markdown",
   "id": "ef08936b-1acf-4831-a8c6-48e2e82fda60",
   "metadata": {},
   "source": [
    "Create numpy array incase we don't have list"
   ]
  },
  {
   "cell_type": "code",
   "execution_count": 43,
   "id": "5235ebb5-2c3b-4741-8d5f-46291761e6a0",
   "metadata": {},
   "outputs": [
    {
     "data": {
      "text/plain": [
       "np.int64(2)"
      ]
     },
     "execution_count": 43,
     "metadata": {},
     "output_type": "execute_result"
    }
   ],
   "source": [
    "my_2d_array[0][2] # will print 10\n",
    "my_2d_array[1][1] # will print 2"
   ]
  },
  {
   "cell_type": "code",
   "execution_count": 44,
   "id": "0731096c-c9ec-4436-b4ce-d465c64d7343",
   "metadata": {},
   "outputs": [
    {
     "data": {
      "text/plain": [
       "[[3, 7, 10], [4, 2, 5], [3, 7, 10], [4, 2, 5], [3, 7, 10], [4, 2, 5]]"
      ]
     },
     "execution_count": 44,
     "metadata": {},
     "output_type": "execute_result"
    }
   ],
   "source": [
    "3 * my_list_2d"
   ]
  },
  {
   "cell_type": "code",
   "execution_count": 45,
   "id": "24b26bd3",
   "metadata": {},
   "outputs": [
    {
     "data": {
      "text/plain": [
       "[5, 3, 8, 5, 3, 8]"
      ]
     },
     "execution_count": 45,
     "metadata": {},
     "output_type": "execute_result"
    }
   ],
   "source": [
    "2 * my_list_1d"
   ]
  },
  {
   "cell_type": "code",
   "execution_count": 46,
   "id": "a8db36b5",
   "metadata": {},
   "outputs": [
    {
     "data": {
      "text/plain": [
       "array([15,  9, 24])"
      ]
     },
     "execution_count": 46,
     "metadata": {},
     "output_type": "execute_result"
    }
   ],
   "source": [
    "3 * np.array(my_list_1d) # All list item get multiplied by 3"
   ]
  },
  {
   "cell_type": "markdown",
   "id": "1f22d639",
   "metadata": {},
   "source": [
    "## Working with Vectors in Numpy"
   ]
  },
  {
   "cell_type": "markdown",
   "id": "0fc47eb9",
   "metadata": {},
   "source": [
    "### Creating Vectors and Extracting Values"
   ]
  },
  {
   "cell_type": "code",
   "execution_count": 96,
   "id": "838b6c23",
   "metadata": {},
   "outputs": [
    {
     "name": "stdout",
     "output_type": "stream",
     "text": [
      "[ 4  8 15 16 23 42]\n"
     ]
    }
   ],
   "source": [
    "import numpy as np\n",
    "one_dimension_vector = np.array([4, 8, 15, 16, 23, 42])\n",
    "print(one_dimension_vector)"
   ]
  },
  {
   "cell_type": "code",
   "execution_count": 97,
   "id": "5d3b5c59",
   "metadata": {},
   "outputs": [
    {
     "data": {
      "text/plain": [
       "(6,)"
      ]
     },
     "execution_count": 97,
     "metadata": {},
     "output_type": "execute_result"
    }
   ],
   "source": [
    "one_dimension_vector.shape"
   ]
  },
  {
   "cell_type": "code",
   "execution_count": 98,
   "id": "0c8af3a0",
   "metadata": {},
   "outputs": [
    {
     "data": {
      "text/plain": [
       "1"
      ]
     },
     "execution_count": 98,
     "metadata": {},
     "output_type": "execute_result"
    }
   ],
   "source": [
    "one_dimension_vector.ndim"
   ]
  },
  {
   "cell_type": "code",
   "execution_count": 101,
   "id": "643dce64",
   "metadata": {},
   "outputs": [
    {
     "name": "stdout",
     "output_type": "stream",
     "text": [
      "4\n"
     ]
    }
   ],
   "source": [
    "first_element = one_dimension_vector[0]\n",
    "print(first_element)"
   ]
  },
  {
   "cell_type": "code",
   "execution_count": 103,
   "id": "170e91c2",
   "metadata": {},
   "outputs": [
    {
     "name": "stdout",
     "output_type": "stream",
     "text": [
      "42\n"
     ]
    }
   ],
   "source": [
    "last_element = one_dimension_vector[-1]\n",
    "print(last_element)"
   ]
  },
  {
   "cell_type": "code",
   "execution_count": 104,
   "id": "cae263ad",
   "metadata": {},
   "outputs": [],
   "source": [
    "one_dimension_vector[0] = 100"
   ]
  },
  {
   "cell_type": "code",
   "execution_count": 105,
   "id": "6549ac67",
   "metadata": {},
   "outputs": [
    {
     "data": {
      "text/plain": [
       "array([100,   8,  15,  16,  23,  42])"
      ]
     },
     "execution_count": 105,
     "metadata": {},
     "output_type": "execute_result"
    }
   ],
   "source": [
    "one_dimension_vector"
   ]
  },
  {
   "cell_type": "code",
   "execution_count": 53,
   "id": "b187eef0",
   "metadata": {},
   "outputs": [],
   "source": [
    "# Creating vector with np.arange"
   ]
  },
  {
   "cell_type": "code",
   "execution_count": 108,
   "id": "d3be2024",
   "metadata": {},
   "outputs": [
    {
     "data": {
      "text/plain": [
       "2"
      ]
     },
     "execution_count": 108,
     "metadata": {},
     "output_type": "execute_result"
    }
   ],
   "source": [
    "martrix = np.array([[1,2,3],[4,5,6]])\n",
    "martrix.ndim"
   ]
  },
  {
   "cell_type": "code",
   "execution_count": 55,
   "id": "f5a1c02d",
   "metadata": {},
   "outputs": [
    {
     "data": {
      "text/plain": [
       "array([0, 1, 2, 3, 4, 5, 6, 7, 8, 9])"
      ]
     },
     "execution_count": 55,
     "metadata": {},
     "output_type": "execute_result"
    }
   ],
   "source": [
    "vector_using_nrange = np.arange(0,10)\n",
    "vector_using_nrange"
   ]
  },
  {
   "cell_type": "code",
   "execution_count": 56,
   "id": "6a29ccb3",
   "metadata": {},
   "outputs": [
    {
     "data": {
      "text/plain": [
       "(10,)"
      ]
     },
     "execution_count": 56,
     "metadata": {},
     "output_type": "execute_result"
    }
   ],
   "source": [
    "vector_using_nrange.shape"
   ]
  },
  {
   "cell_type": "code",
   "execution_count": 109,
   "id": "09a904dd",
   "metadata": {},
   "outputs": [],
   "source": [
    "row_vector = np.array([[1,2,3]])"
   ]
  },
  {
   "cell_type": "code",
   "execution_count": 110,
   "id": "ed8182a9",
   "metadata": {},
   "outputs": [
    {
     "data": {
      "text/plain": [
       "(1, 3)"
      ]
     },
     "execution_count": 110,
     "metadata": {},
     "output_type": "execute_result"
    }
   ],
   "source": [
    "row_vector.shape"
   ]
  },
  {
   "cell_type": "code",
   "execution_count": 111,
   "id": "4840e4d8",
   "metadata": {},
   "outputs": [
    {
     "data": {
      "text/plain": [
       "2"
      ]
     },
     "execution_count": 111,
     "metadata": {},
     "output_type": "execute_result"
    }
   ],
   "source": [
    "row_vector.ndim"
   ]
  },
  {
   "cell_type": "code",
   "execution_count": 112,
   "id": "31626df5",
   "metadata": {},
   "outputs": [],
   "source": [
    "two_dimensional_array = np.array([[1.,2.,3.],[4.,5.,6.]])"
   ]
  },
  {
   "cell_type": "code",
   "execution_count": 61,
   "id": "e48981b2",
   "metadata": {},
   "outputs": [
    {
     "data": {
      "text/plain": [
       "(2, 3)"
      ]
     },
     "execution_count": 61,
     "metadata": {},
     "output_type": "execute_result"
    }
   ],
   "source": [
    "two_dimensional_array.shape"
   ]
  },
  {
   "cell_type": "code",
   "execution_count": 73,
   "id": "7d5f1216",
   "metadata": {},
   "outputs": [
    {
     "data": {
      "text/plain": [
       "2"
      ]
     },
     "execution_count": 73,
     "metadata": {},
     "output_type": "execute_result"
    }
   ],
   "source": [
    "two_dimensional_array.ndim"
   ]
  },
  {
   "cell_type": "code",
   "execution_count": 77,
   "id": "86fd69c2",
   "metadata": {},
   "outputs": [],
   "source": [
    "two_dimensional_array_matrix_shape = np.array([[1,2,3], [4,5,6], [7,8,9]])"
   ]
  },
  {
   "cell_type": "code",
   "execution_count": 78,
   "id": "4fa24c5c",
   "metadata": {},
   "outputs": [
    {
     "data": {
      "text/plain": [
       "(3, 3)"
      ]
     },
     "execution_count": 78,
     "metadata": {},
     "output_type": "execute_result"
    }
   ],
   "source": [
    "two_dimensional_array_matrix_shape.shape"
   ]
  },
  {
   "cell_type": "code",
   "execution_count": 113,
   "id": "fac844f1",
   "metadata": {},
   "outputs": [],
   "source": [
    "three_dimensional_batch_of_2d_matrix = np.array([\n",
    "    [[1,2,3],[3,4,5]],\n",
    "    [[5,6,7],[7,8,9]]\n",
    "])"
   ]
  },
  {
   "cell_type": "code",
   "execution_count": 114,
   "id": "f0425ad3",
   "metadata": {},
   "outputs": [
    {
     "data": {
      "text/plain": [
       "(2, 2, 3)"
      ]
     },
     "execution_count": 114,
     "metadata": {},
     "output_type": "execute_result"
    }
   ],
   "source": [
    "three_dimensional_batch_of_2d_matrix.shape"
   ]
  },
  {
   "cell_type": "code",
   "execution_count": 115,
   "id": "f3f32c76",
   "metadata": {},
   "outputs": [
    {
     "data": {
      "text/plain": [
       "3"
      ]
     },
     "execution_count": 115,
     "metadata": {},
     "output_type": "execute_result"
    }
   ],
   "source": [
    "three_dimensional_batch_of_2d_matrix.ndim"
   ]
  },
  {
   "cell_type": "code",
   "execution_count": 91,
   "id": "fe2a5d8a",
   "metadata": {},
   "outputs": [],
   "source": [
    "four_dimensional_array = np.array([\n",
    "    [\n",
    "        [[1,2,3]]\n",
    "    ]\n",
    "])"
   ]
  },
  {
   "cell_type": "code",
   "execution_count": 92,
   "id": "37656470",
   "metadata": {},
   "outputs": [
    {
     "data": {
      "text/plain": [
       "(1, 1, 1, 3)"
      ]
     },
     "execution_count": 92,
     "metadata": {},
     "output_type": "execute_result"
    }
   ],
   "source": [
    "four_dimensional_array.shape"
   ]
  },
  {
   "cell_type": "code",
   "execution_count": null,
   "id": "e920b332",
   "metadata": {},
   "outputs": [],
   "source": []
  }
 ],
 "metadata": {
  "kernelspec": {
   "display_name": "ds_env",
   "language": "python",
   "name": "ds_env"
  },
  "language_info": {
   "codemirror_mode": {
    "name": "ipython",
    "version": 3
   },
   "file_extension": ".py",
   "mimetype": "text/x-python",
   "name": "python",
   "nbconvert_exporter": "python",
   "pygments_lexer": "ipython3",
   "version": "3.12.9"
  }
 },
 "nbformat": 4,
 "nbformat_minor": 5
}
