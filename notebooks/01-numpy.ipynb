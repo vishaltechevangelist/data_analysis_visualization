{
 "cells": [
  {
   "cell_type": "code",
   "execution_count": 16,
   "id": "fcf52f8c-4ea1-4772-a5a3-843a5ee888ff",
   "metadata": {},
   "outputs": [
    {
     "name": "stdout",
     "output_type": "stream",
     "text": [
      "2.2.4\n"
     ]
    }
   ],
   "source": [
    "import numpy as np\n",
    "print(np.__version__)"
   ]
  },
  {
   "cell_type": "markdown",
   "id": "d5d13a34-ca20-499a-aefe-2f78e680fdfd",
   "metadata": {},
   "source": [
    "Convert python list (if we already have) into numpy array"
   ]
  },
  {
   "cell_type": "code",
   "execution_count": 8,
   "id": "544bd9a5-1617-489f-9874-f4dfaa554f9a",
   "metadata": {},
   "outputs": [],
   "source": [
    "my_list_1d = [5,3,8]"
   ]
  },
  {
   "cell_type": "code",
   "execution_count": 9,
   "id": "1c606194-e09a-47a8-ab52-768d58f2a3ba",
   "metadata": {},
   "outputs": [
    {
     "data": {
      "text/plain": [
       "array([5, 3, 8])"
      ]
     },
     "execution_count": 9,
     "metadata": {},
     "output_type": "execute_result"
    }
   ],
   "source": [
    "# convert python list into 1-dimensional numpy array\n",
    "np.array(my_list_1d)"
   ]
  },
  {
   "cell_type": "code",
   "execution_count": 12,
   "id": "f1d90aed-a8d8-43d5-a0f8-c63c857eb860",
   "metadata": {},
   "outputs": [
    {
     "data": {
      "text/plain": [
       "[[3, 7, 10], [4, 2, 5]]"
      ]
     },
     "execution_count": 12,
     "metadata": {},
     "output_type": "execute_result"
    }
   ],
   "source": [
    "# 2-dimensional array from list of lists\n",
    "my_list_2d = [[3,7,10], [4,2,5]]\n",
    "my_list_2d"
   ]
  },
  {
   "cell_type": "code",
   "execution_count": 17,
   "id": "4885f10b-721e-4db2-bbab-021e5d857f19",
   "metadata": {},
   "outputs": [
    {
     "data": {
      "text/plain": [
       "array([[ 3,  7, 10],\n",
       "       [ 4,  2,  5]])"
      ]
     },
     "execution_count": 17,
     "metadata": {},
     "output_type": "execute_result"
    }
   ],
   "source": [
    "my_2d_array = np.array(my_list_2d) # 3,7,10 are 1st row and 4,2,5 are 2nd row ---- 3,4 are 1st column and so on\n",
    "my_2d_array"
   ]
  },
  {
   "cell_type": "markdown",
   "id": "ef08936b-1acf-4831-a8c6-48e2e82fda60",
   "metadata": {},
   "source": [
    "Create numpy array incase we don't have list"
   ]
  },
  {
   "cell_type": "code",
   "execution_count": 22,
   "id": "5235ebb5-2c3b-4741-8d5f-46291761e6a0",
   "metadata": {},
   "outputs": [
    {
     "data": {
      "text/plain": [
       "np.int64(2)"
      ]
     },
     "execution_count": 22,
     "metadata": {},
     "output_type": "execute_result"
    }
   ],
   "source": [
    "my_2d_array[0][2] # will print 10\n",
    "my_2d_array[1][1] # will print 2"
   ]
  },
  {
   "cell_type": "code",
   "execution_count": null,
   "id": "0731096c-c9ec-4436-b4ce-d465c64d7343",
   "metadata": {},
   "outputs": [],
   "source": [
    "# "
   ]
  }
 ],
 "metadata": {
  "kernelspec": {
   "display_name": "Python 3 (ipykernel)",
   "language": "python",
   "name": "python3"
  },
  "language_info": {
   "codemirror_mode": {
    "name": "ipython",
    "version": 3
   },
   "file_extension": ".py",
   "mimetype": "text/x-python",
   "name": "python",
   "nbconvert_exporter": "python",
   "pygments_lexer": "ipython3",
   "version": "3.12.9"
  }
 },
 "nbformat": 4,
 "nbformat_minor": 5
}
