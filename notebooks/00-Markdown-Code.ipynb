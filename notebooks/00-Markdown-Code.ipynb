{
 "cells": [
  {
   "cell_type": "markdown",
   "id": "8955dc1b",
   "metadata": {},
   "source": [
    "# Math function display\n",
    "Here is some math :\n",
    "$cos(x)$  $$\\sum_{i=1}^n i^2$$"
   ]
  },
  {
   "cell_type": "code",
   "execution_count": 1,
   "id": "aee5440d",
   "metadata": {},
   "outputs": [],
   "source": [
    "my_list = [1,3,4,101]"
   ]
  },
  {
   "cell_type": "code",
   "execution_count": 2,
   "id": "35a69441",
   "metadata": {},
   "outputs": [
    {
     "data": {
      "text/plain": [
       "[1, 3, 4, 101]"
      ]
     },
     "execution_count": 2,
     "metadata": {},
     "output_type": "execute_result"
    }
   ],
   "source": [
    "my_list"
   ]
  },
  {
   "cell_type": "code",
   "execution_count": 3,
   "id": "34596b47",
   "metadata": {},
   "outputs": [],
   "source": [
    "my_list = my_list[:3]"
   ]
  },
  {
   "cell_type": "code",
   "execution_count": 4,
   "id": "8d888787",
   "metadata": {},
   "outputs": [
    {
     "data": {
      "text/plain": [
       "[1, 3, 4]"
      ]
     },
     "execution_count": 4,
     "metadata": {},
     "output_type": "execute_result"
    }
   ],
   "source": [
    "my_list"
   ]
  },
  {
   "cell_type": "code",
   "execution_count": null,
   "id": "aaa7ab98",
   "metadata": {},
   "outputs": [],
   "source": []
  }
 ],
 "metadata": {
  "kernelspec": {
   "display_name": "ds_env",
   "language": "python",
   "name": "ds_env"
  },
  "language_info": {
   "codemirror_mode": {
    "name": "ipython",
    "version": 3
   },
   "file_extension": ".py",
   "mimetype": "text/x-python",
   "name": "python",
   "nbconvert_exporter": "python",
   "pygments_lexer": "ipython3",
   "version": "3.12.9"
  }
 },
 "nbformat": 4,
 "nbformat_minor": 5
}
